{
 "cells": [
  {
   "cell_type": "markdown",
   "id": "4153b116-206b-40f8-a684-bf082c5ebcea",
   "metadata": {},
   "source": [
    "# Building a data analyst agent with LangGraph and Azure Container Apps dynamic sessions\n",
    "\n",
    "In this example we'll build an agent that can query a Postgres database and run Python code to analyze the retrieved data. We'll use [LangGraph](https://langchain-ai.github.io/langgraph/) for agent orchestration and [Azure Container Apps dynamic sessions](https://python.langchain.com/v0.2/docs/integrations/tools/azure_dynamic_sessions/) for safe Python code execution.\n",
    "\n",
    "**NOTE**: Building LLM systems that interact with SQL databases requires executing model-generated SQL queries. There are inherent risks in doing this. Make sure that your database connection permissions are always scoped as narrowly as possible for your agent's needs. This will mitigate though not eliminate the risks of building a model-driven system. For more on general security best practices, see our [security guidelines](https://python.langchain.com/v0.2/docs/security/)."
   ]
  },
  {
   "cell_type": "markdown",
   "id": "3b70c2be-1141-4107-80db-787f7935102f",
   "metadata": {},
   "source": [
    "## Setup\n",
    "\n",
    "Let's get set up by installing our Python dependencies and setting our OpenAI credentials, Azure Container Apps sessions pool endpoint, and our SQL database connection string.\n",
    "\n",
    "### Install dependencies"
   ]
  },
  {
   "cell_type": "code",
   "execution_count": 1,
   "id": "302f827f-062c-4b83-8239-07b28bfc9651",
   "metadata": {},
   "outputs": [
    {
     "name": "stdout",
     "output_type": "stream",
     "text": [
      "Note: you may need to restart the kernel to use updated packages.\n"
     ]
    }
   ],
   "source": [
    "%pip install -qU langgraph langchain-azure-dynamic-sessions langchain-openai langchain-community pandas matplotlib"
   ]
  },
  {
   "cell_type": "markdown",
   "id": "7621655b-605c-4690-8ee1-77a4bab8b383",
   "metadata": {},
   "source": [
    "### Set credentials\n",
    "\n",
    "By default this demo uses:\n",
    "- Azure OpenAI for the model: https://learn.microsoft.com/en-us/azure/ai-services/openai/how-to/create-resource\n",
    "- Azure PostgreSQL for the db: https://learn.microsoft.com/en-us/cli/azure/postgres/server?view=azure-cli-latest#az-postgres-server-create\n",
    "- Azure Container Apps dynamic sessions for code execution: https://learn.microsoft.com/en-us/azure/container-apps/sessions-code-interpreter?\n",
    "\n",
    "This LangGraph architecture can also be used with any other [tool-calling LLM](https://python.langchain.com/v0.2/docs/how_to/tool_calling) and any SQL database."
   ]
  },
  {
   "cell_type": "code",
   "execution_count": 2,
   "id": "2e522b93",
   "metadata": {},
   "outputs": [
    {
     "name": "stdout",
     "output_type": "stream",
     "text": [
      "Requirement already satisfied: python-dotenv in /home/codespace/.python/current/lib/python3.12/site-packages (1.0.1)\n",
      "Note: you may need to restart the kernel to use updated packages.\n"
     ]
    }
   ],
   "source": [
    "%pip install python-dotenv"
   ]
  },
  {
   "cell_type": "code",
   "execution_count": 3,
   "id": "be7c74d8-485b-4c51-aded-07e8af838efe",
   "metadata": {},
   "outputs": [
    {
     "name": "stdout",
     "output_type": "stream",
     "text": [
      "Environment variables loaded successfully.\n"
     ]
    }
   ],
   "source": [
    "from dotenv import load_dotenv\n",
    "import os\n",
    "\n",
    "# Load environment variables from .env file\n",
    "load_dotenv()\n",
    "\n",
    "# Use os.getenv() to get the values, with a prompt as fallback\n",
    "AZURE_OPENAI_API_KEY = os.getenv(\"AZURE_OPENAI_API_KEY\") or input(\"Azure OpenAI API key: \")\n",
    "AZURE_OPENAI_ENDPOINT = os.getenv(\"AZURE_OPENAI_ENDPOINT\") or input(\"Azure OpenAI endpoint: \")\n",
    "AZURE_OPENAI_DEPLOYMENT_NAME = os.getenv(\"AZURE_OPENAI_DEPLOYMENT_NAME\") or input(\"Azure OpenAI deployment name: \")\n",
    "SESSIONS_POOL_MANAGEMENT_ENDPOINT = os.getenv(\"SESSIONS_POOL_MANAGEMENT_ENDPOINT\") or input(\"Azure Container Apps dynamic sessions pool management endpoint: \")\n",
    "SQL_DB_CONNECTION_STRING = os.getenv(\"SQL_DB_CONNECTION_STRING\") or input(\"PostgreSQL connection string: \")\n",
    "\n",
    "# Set environment variables if they weren't in the .env file\n",
    "if not os.getenv(\"AZURE_OPENAI_API_KEY\"):\n",
    "    os.environ[\"AZURE_OPENAI_API_KEY\"] = AZURE_OPENAI_API_KEY\n",
    "if not os.getenv(\"AZURE_OPENAI_ENDPOINT\"):\n",
    "    os.environ[\"AZURE_OPENAI_ENDPOINT\"] = AZURE_OPENAI_ENDPOINT\n",
    "\n",
    "# Print a message to confirm the variables are set (optional)\n",
    "print(\"Environment variables loaded successfully.\")"
   ]
  },
  {
   "cell_type": "markdown",
   "id": "3712a7b0-3f7d-4d90-9319-febf7b046aa6",
   "metadata": {},
   "source": [
    "### Imports"
   ]
  },
  {
   "cell_type": "code",
   "execution_count": 4,
   "id": "09c0a46e-a8b4-44e3-8d90-2e5d0f66c1ad",
   "metadata": {},
   "outputs": [],
   "source": [
    "import ast\n",
    "import base64\n",
    "import io\n",
    "import json\n",
    "import operator\n",
    "from functools import partial\n",
    "from typing import Annotated, List, Literal, Optional, Sequence, TypedDict\n",
    "\n",
    "import pandas as pd\n",
    "from IPython.display import display\n",
    "from langchain_azure_dynamic_sessions import SessionsPythonREPLTool\n",
    "from langchain_community.utilities import SQLDatabase\n",
    "from langchain_core.messages import AIMessage, BaseMessage, HumanMessage, ToolMessage\n",
    "from langchain_core.prompts import ChatPromptTemplate\n",
    "from langchain_core.pydantic_v1 import BaseModel, Field\n",
    "from langchain_core.runnables import RunnablePassthrough\n",
    "from langchain_core.tools import tool\n",
    "from langchain_openai import AzureChatOpenAI\n",
    "from langgraph.graph import END, StateGraph\n",
    "from langgraph.prebuilt import ToolNode\n",
    "from matplotlib.pyplot import imshow\n",
    "from PIL import Image"
   ]
  },
  {
   "cell_type": "code",
   "execution_count": 5,
   "id": "a592f151",
   "metadata": {},
   "outputs": [
    {
     "name": "stdout",
     "output_type": "stream",
     "text": [
      "Requirement already satisfied: psycopg2-binary in /home/codespace/.python/current/lib/python3.12/site-packages (2.9.9)\n",
      "Note: you may need to restart the kernel to use updated packages.\n"
     ]
    }
   ],
   "source": [
    "%pip install psycopg2-binary"
   ]
  },
  {
   "cell_type": "markdown",
   "id": "5cc14582-313c-4a61-be5e-a7a1ba26a6e0",
   "metadata": {},
   "source": [
    "## Instantiate model, DB, code interpreter\n",
    "\n",
    "We'll use the LangChain [SQLDatabase](https://python.langchain.com/v0.2/api_reference/community/utilities/langchain_community.utilities.sql_database.SQLDatabase.html#langchain_community.utilities.sql_database.SQLDatabase) interface to connect to our DB and query it. This works with any SQL database supported by [SQLAlchemy](https://www.sqlalchemy.org/)."
   ]
  },
  {
   "cell_type": "code",
   "execution_count": 6,
   "id": "9262ea34-c6ac-407c-96c3-aa5eaa1a8039",
   "metadata": {},
   "outputs": [
    {
     "name": "stdout",
     "output_type": "stream",
     "text": [
      "Total sessions in database: [\n",
      "Total messages in database: [\n",
      "Sample of sessions:\n",
      "[(1, 'thread_sVHlq7pyUp9hphHp6ArVTCJX', 'API/Embed', None, ''), (2, 'thread_VcBDB7XW4cyRSvORJbZ0Qi2n', 'API/Embed', None, ''), (3, 'thread_3Y8hMyT8k38bexAIDesyY8pg', 'API/Embed', None, ''), (4, 'thread_DrwhUoBtX1EkyLsRZXy73Wcg', 'API/Embed', None, ''), (5, 'thread_FGR7UyCD6aR7SD8hfP12IBYz', 'API/Embed', None, '')]\n",
      "Sample of messages:\n",
      "[(1, 'thread_sVHlq7pyUp9hphHp6ArVTCJX', 'Hey', 'user', datetime.datetime(2024, 1, 6, 12, 1, 10, 830000), [], []), (2, 'thread_sVHlq7pyUp9hphHp6ArVTCJX', \"Hello there! 😊 As your learning assistant, I'm here to guide you on an exciting educational adventure. Whether you're curious about math, science, or coding, I've got tons of fun activities and interactive lessons tailored just for you. Let's make learning awesome together! What topic are you...\", 'bot', datetime.datetime(2024, 1, 6, 12, 1, 16), [], []), (3, 'thread_sVHlq7pyUp9hphHp6ArVTCJX', 'I wish to be learning coding', 'user', datetime.datetime(2024, 1, 6, 12, 10, 24, 603000), [], []), (4, 'thread_sVHlq7pyUp9hphHp6ArVTCJX', \"Fantastic choice! 🎉 Coding is like learning a superpower that allows you to create amazing things. We'll start with Python, which is a great language for beginners and pros alike. You'll write your own code and see it come to life! Before we dive in, could you tell me a bit about your experience...\", 'bot', datetime.datetime(2024, 1, 6, 12, 10, 32), [], []), (5, 'thread_sVHlq7pyUp9hphHp6ArVTCJX', \"I don't know anything about coding\", 'user', datetime.datetime(2024, 1, 6, 12, 11, 31, 325000), [], [])]\n"
     ]
    }
   ],
   "source": [
    "db = SQLDatabase.from_uri(SQL_DB_CONNECTION_STRING)\n",
    "def verify_database_content():\n",
    "    session_count = db.run(\"SELECT COUNT(*) FROM sessions\", fetch=\"one\")\n",
    "    message_count = db.run(\"SELECT COUNT(*) FROM messages\", fetch=\"one\")\n",
    "    print(f\"Total sessions in database: {session_count[0]}\")\n",
    "    print(f\"Total messages in database: {message_count[0]}\")\n",
    "    print(\"Sample of sessions:\")\n",
    "    print(db.run(\"SELECT * FROM sessions LIMIT 5\", fetch=\"all\"))\n",
    "    print(\"Sample of messages:\")\n",
    "    print(db.run(\"SELECT * FROM messages LIMIT 5\", fetch=\"all\"))\n",
    "\n",
    "# Call this function before running any queries\n",
    "verify_database_content()\n"
   ]
  },
  {
   "cell_type": "markdown",
   "id": "1982c6f2-aa4e-4842-83f2-951205aa0854",
   "metadata": {},
   "source": [
    "For our LLM we need to make sure that we use a model that supports [tool-calling](https://python.langchain.com/v0.2/docs/how_to/tool_calling)."
   ]
  },
  {
   "cell_type": "code",
   "execution_count": 7,
   "id": "ba6201a1-d760-45f1-b14a-bf8d85ceb775",
   "metadata": {},
   "outputs": [],
   "source": [
    "llm = AzureChatOpenAI(\n",
    "    deployment_name=AZURE_OPENAI_DEPLOYMENT_NAME, openai_api_version=\"2024-02-01\"\n",
    ")"
   ]
  },
  {
   "cell_type": "markdown",
   "id": "92e2fcc7-812a-4d18-852f-2f814559b415",
   "metadata": {},
   "source": [
    "And the [dynamic sessions tool](https://python.langchain.com/v0.2/docs/integrations/tools/azure_container_apps_dynamic_sessions/) is what we'll use for code execution."
   ]
  },
  {
   "cell_type": "code",
   "execution_count": 8,
   "id": "89e5a315-c964-493d-84fb-1f453909caae",
   "metadata": {},
   "outputs": [],
   "source": [
    "repl = SessionsPythonREPLTool(\n",
    "    pool_management_endpoint=SESSIONS_POOL_MANAGEMENT_ENDPOINT\n",
    ")"
   ]
  },
  {
   "cell_type": "markdown",
   "id": "ee084fbd-10d3-4328-9d8c-75ffa9437b31",
   "metadata": {},
   "source": [
    "## Define graph\n",
    "\n",
    "Now we're ready to define our application logic. The core elements are the [agent State, Nodes, and Edges](https://langchain-ai.github.io/langgraph/concepts/#core-design).\n",
    "\n",
    "### Define State\n",
    "We'll use a simple agent State which is just a list of messages that every Node can append to:"
   ]
  },
  {
   "cell_type": "code",
   "execution_count": 9,
   "id": "7feef65d-bf11-41bb-9164-5249953eb02e",
   "metadata": {},
   "outputs": [],
   "source": [
    "class AgentState(TypedDict):\n",
    "    messages: Annotated[Sequence[BaseMessage], operator.add]"
   ]
  },
  {
   "cell_type": "markdown",
   "id": "58fe92a3-9a30-464b-bcf3-972af5b92e40",
   "metadata": {},
   "source": [
    "Since our code interpreter can return results like base64-encoded images which we don't want to pass back to the model, we'll create a custom Tool message that allows us to track raw Tool outputs without sending them back to the model."
   ]
  },
  {
   "cell_type": "code",
   "execution_count": 10,
   "id": "36e2d8a2-8881-40bc-81da-b40e8a152d9d",
   "metadata": {},
   "outputs": [],
   "source": [
    "class RawToolMessage(ToolMessage):\n",
    "    \"\"\"\n",
    "    Customized Tool message that lets us pass around the raw tool outputs (along with string contents for passing back to the model).\n",
    "    \"\"\"\n",
    "\n",
    "    raw: dict\n",
    "    \"\"\"Arbitrary (non-string) tool outputs. Won't be sent to model.\"\"\"\n",
    "    tool_name: str\n",
    "    \"\"\"Name of tool that generated output.\"\"\""
   ]
  },
  {
   "cell_type": "markdown",
   "id": "ad1b681c-c918-4dfe-b671-9d6eee457a51",
   "metadata": {},
   "source": [
    "### Define Nodes"
   ]
  },
  {
   "cell_type": "markdown",
   "id": "966aeec1-b930-442c-9ba3-d8ad3800d2a4",
   "metadata": {},
   "source": [
    "First we'll define a node for calling our model. We need to make sure to bind our tools to the model so that it knows to call them. We'll also specify in our prompt the schema of the SQL tables the model has access to, so that it can write relevant SQL queries."
   ]
  },
  {
   "cell_type": "markdown",
   "id": "88f15581-11f6-4421-aa17-5762a84c8032",
   "metadata": {},
   "source": [
    "We'll use our models tool-calling abilities to reliably generate our SQL queries and Python code. To do this we need to define schemas for our tools that the model can use for structuring its tool calls.\n",
    "\n",
    "Note that the class names, docstrings, and attribute typing and descriptions are crucial here, as they're actually passed in to the model (you can effectively think of them as part of the prompt)."
   ]
  },
  {
   "cell_type": "code",
   "execution_count": 11,
   "id": "390f170b-ba13-41fc-8c9b-ee0efdb13b98",
   "metadata": {},
   "outputs": [],
   "source": [
    "# Tool schema for querying SQL db\n",
    "class create_df_from_sql(BaseModel):\n",
    "    \"\"\"Execute a PostgreSQL SELECT statement and use the results to create a DataFrame with the given column names.\"\"\"\n",
    "\n",
    "    select_query: str = Field(..., description=\"A PostgreSQL SELECT statement. Must return at least one row of data.\")\n",
    "    df_columns: List[str] = Field(\n",
    "        ..., description=\"Ordered names to give the DataFrame columns. Must match the number and order of columns in the SELECT statement.\"\n",
    "    )\n",
    "    df_name: str = Field(\n",
    "        ..., description=\"The name to give the DataFrame variable in downstream code.\"\n",
    "    )\n",
    "\n",
    "# Tool schema for writing Python code\n",
    "class python_shell(BaseModel):\n",
    "    \"\"\"Execute Python code that analyzes the DataFrames that have been generated. Make sure to print any important results.\"\"\"\n",
    "\n",
    "    code: str = Field(\n",
    "        ...,\n",
    "        description=\"The code to execute. Make sure to print any important results.\",\n",
    "    )"
   ]
  },
  {
   "cell_type": "code",
   "execution_count": 12,
   "id": "a98cf69a-e25b-4016-a565-aa16e43e417a",
   "metadata": {},
   "outputs": [],
   "source": [
    "system_prompt = f\"\"\"\\\n",
    "You are an expert at PostgreSQL and Python, specializing in chat data analysis. You have access to a PostgreSQL database with the following tables:\n",
    "\n",
    "{db.table_info}\n",
    "\n",
    "Given a user question related to the chat data in the database, follow these steps:\n",
    "1. Formulate an appropriate SQL query to retrieve relevant data from the tables.\n",
    "   - Always use explicit column names in your SELECT statements rather than using SELECT *.\n",
    "   - Ensure that your query returns at least one row of data.\n",
    "   - If you're counting or aggregating data, use appropriate column aliases.\n",
    "2. Use the create_df_from_sql tool to execute the SQL query and create a DataFrame. \n",
    "   - Specify the exact column names that your SQL query will return in the df_columns argument.\n",
    "   - Ensure that the number of columns specified matches the number of columns in your SQL query.\n",
    "3. Utilize the python_shell to perform any necessary analysis on the DataFrame to answer the user's question.\n",
    "4. Provide clear, concise answers with relevant statistics or visualizations when appropriate.\n",
    "\n",
    "Remember to join the 'sessions' and 'messages' tables when needed to get comprehensive information about the chats.\n",
    "\n",
    "Common analysis tasks might include:\n",
    "- Message frequency analysis\n",
    "- User engagement metrics\n",
    "- Content analysis of messages\n",
    "- Time-based patterns in chat activity\n",
    "- Source or platform comparisons\n",
    "\n",
    "Always consider data privacy and avoid exposing any sensitive information in your responses.\n",
    "\"\"\"\n",
    "\n",
    "prompt = ChatPromptTemplate.from_messages(\n",
    "    [\n",
    "        (\"system\", system_prompt),\n",
    "        (\"placeholder\", \"{messages}\"),\n",
    "    ]\n",
    ")\n",
    "\n",
    "\n",
    "def call_model(state: AgentState) -> dict:\n",
    "    \"\"\"Call model with tools passed in.\"\"\"\n",
    "    messages = []\n",
    "\n",
    "    chain = prompt | llm.bind_tools([create_df_from_sql, python_shell])\n",
    "    messages.append(chain.invoke({\"messages\": state[\"messages\"]}))\n",
    "\n",
    "    return {\"messages\": messages}"
   ]
  },
  {
   "cell_type": "markdown",
   "id": "4e87c72e-7f9e-4377-94c9-abd9fb869866",
   "metadata": {},
   "source": [
    "Now we can define the node for executing any SQL queries that were generated by the model. Notice that after we run the query we convert the results into Pandas DataFrames — these will be uploaded the the code interpreter tool in the next step so that it can use the retrieved data."
   ]
  },
  {
   "cell_type": "code",
   "execution_count": 13,
   "id": "a229efba-e981-4403-a37c-ab030c929ea4",
   "metadata": {},
   "outputs": [],
   "source": [
    "def execute_sql_query(state: AgentState) -> dict:\n",
    "    messages = []\n",
    "    for tool_call in state[\"messages\"][-1].tool_calls:\n",
    "        if tool_call[\"name\"] != \"create_df_from_sql\":\n",
    "            continue\n",
    "        \n",
    "        query = tool_call[\"args\"][\"select_query\"]\n",
    "        print(f\"Executing SQL Query: {query}\")  # Debug print\n",
    "        \n",
    "        res = db.run(query, fetch=\"all\")\n",
    "        print(f\"Query result type: {type(res)}\")\n",
    "        print(f\"Query result length: {len(res)}\")\n",
    "        print(f\"Query result sample: {res[:5]}\")  # Debug print (first 5 rows)\n",
    "        \n",
    "        df_columns = tool_call[\"args\"][\"df_columns\"]\n",
    "        print(f\"Specified columns: {df_columns}\")\n",
    "        \n",
    "        if not res:\n",
    "            error_message = \"The SQL query returned no results.\"\n",
    "            print(error_message)\n",
    "            messages.append(RawToolMessage(error_message, raw={\"error\": error_message}, tool_call_id=tool_call[\"id\"], tool_name=tool_call[\"name\"]))\n",
    "            continue\n",
    "        \n",
    "        try:\n",
    "            df = pd.DataFrame(res, columns=df_columns)\n",
    "            df_name = tool_call[\"args\"][\"df_name\"]\n",
    "            \n",
    "            print(f\"Created DataFrame {df_name} with shape: {df.shape}\")  # Debug print\n",
    "            print(f\"Sample of {df_name}:\\n{df.head()}\")  # Debug print\n",
    "            \n",
    "            messages.append(\n",
    "                RawToolMessage(\n",
    "                    f\"Generated dataframe {df_name} with columns {df_columns}. Shape: {df.shape}\",\n",
    "                    raw={df_name: df},\n",
    "                    tool_call_id=tool_call[\"id\"],\n",
    "                    tool_name=tool_call[\"name\"],\n",
    "                )\n",
    "            )\n",
    "        except Exception as e:\n",
    "            error_message = f\"Error creating DataFrame: {str(e)}\"\n",
    "            print(error_message)\n",
    "            print(f\"res: {res}\")\n",
    "            print(f\"df_columns: {df_columns}\")\n",
    "            messages.append(RawToolMessage(error_message, raw={\"error\": error_message}, tool_call_id=tool_call[\"id\"], tool_name=tool_call[\"name\"]))\n",
    "    \n",
    "    return {\"messages\": messages}"
   ]
  },
  {
   "cell_type": "markdown",
   "id": "7a67eaaf-1587-4f32-ab5c-e1a04d273c3e",
   "metadata": {},
   "source": [
    "Now we need a node for executing any model-generated Python code. The key steps here are:\n",
    "- Uploading queried data to the code intepreter\n",
    "- Executing model generated code\n",
    "- Parsing results so that images are displayed and not passed in to future model calls\n",
    "\n",
    "To upload the queried data to the model we can take our DataFrames we generated by executing the SQL queries and upload them as CSVs to our code intepreter."
   ]
  },
  {
   "cell_type": "code",
   "execution_count": 14,
   "id": "450c1dd0-4fe4-4ab7-b1d7-e012c3cf0102",
   "metadata": {},
   "outputs": [],
   "source": [
    "def _upload_dfs_to_repl(state: AgentState) -> str:\n",
    "    \"\"\"\n",
    "    Upload generated dfs to code interpreter and return code for loading them.\n",
    "    \"\"\"\n",
    "    df_dicts = [\n",
    "        msg.raw\n",
    "        for msg in state[\"messages\"]\n",
    "        if isinstance(msg, RawToolMessage) and msg.tool_name == \"create_df_from_sql\"\n",
    "    ]\n",
    "    name_df_map = {name: df for df_dict in df_dicts for name, df in df_dict.items()}\n",
    "    \n",
    "    print(\"DataFrame map:\", name_df_map)  # Debug print\n",
    "    \n",
    "    # Data should be uploaded as a BinaryIO.\n",
    "    # Files will be uploaded to the \"/mnt/data/\" directory on the container.\n",
    "    for name, df in name_df_map.items():\n",
    "        print(f\"Processing DataFrame '{name}':\")  # Debug print\n",
    "        print(f\"Type: {type(df)}\")  # Debug print\n",
    "        print(f\"Content: {df}\")  # Debug print\n",
    "        \n",
    "        if isinstance(df, pd.DataFrame):\n",
    "            buffer = io.StringIO()\n",
    "            df.to_csv(buffer, index=False)\n",
    "            buffer.seek(0)\n",
    "            repl.upload_file(data=buffer, remote_file_path=name + \".csv\")\n",
    "        elif isinstance(df, str):\n",
    "            # If it's a string, we'll assume it's already in CSV format\n",
    "            buffer = io.StringIO(df)\n",
    "            repl.upload_file(data=buffer, remote_file_path=name + \".csv\")\n",
    "        else:\n",
    "            print(f\"Warning: Unexpected type for DataFrame '{name}': {type(df)}\")\n",
    "            continue\n",
    "\n",
    "    # Code for loading the uploaded files.\n",
    "    df_code = \"import pandas as pd\\n\" + \"\\n\".join(\n",
    "        f\"{name} = pd.read_csv('/mnt/data/{name}.csv')\" for name in name_df_map\n",
    "    )\n",
    "    return df_code\n",
    "\n",
    "\n",
    "def _repl_result_to_msg_content(repl_result: dict) -> str:\n",
    "    \"\"\"\n",
    "    Display images with including them in tool message content.\n",
    "    \"\"\"\n",
    "    content = {}\n",
    "    for k, v in repl_result.items():\n",
    "        # Any image results are returned as a dict of the form:\n",
    "        # {\"type\": \"image\", \"base64_data\": \"...\"}\n",
    "        if isinstance(repl_result[k], dict) and repl_result[k][\"type\"] == \"image\":\n",
    "            # Decode and display image\n",
    "            base64_str = repl_result[k][\"base64_data\"]\n",
    "            img = Image.open(io.BytesIO(base64.decodebytes(bytes(base64_str, \"utf-8\"))))\n",
    "            display(img)\n",
    "        else:\n",
    "            content[k] = repl_result[k]\n",
    "    return json.dumps(content, indent=2)\n",
    "\n",
    "def execute_python(state: AgentState) -> dict:\n",
    "    messages = []\n",
    "    \n",
    "    df_code = _upload_dfs_to_repl(state)\n",
    "    print(\"DataFrames uploaded to REPL:\")  # Debug print\n",
    "    print(df_code)  # Debug print\n",
    "    \n",
    "    last_ai_msg = [msg for msg in state[\"messages\"] if isinstance(msg, AIMessage)][-1]\n",
    "    for tool_call in last_ai_msg.tool_calls:\n",
    "        if tool_call[\"name\"] != \"python_shell\":\n",
    "            continue\n",
    "        \n",
    "        generated_code = tool_call[\"args\"][\"code\"]\n",
    "        print(\"Executing Python Code:\")  # Debug print\n",
    "        print(generated_code)  # Debug print\n",
    "        \n",
    "        try:\n",
    "            repl_result = repl.execute(df_code + \"\\n\" + generated_code)\n",
    "            print(\"Python Execution Result:\")  # Debug print\n",
    "            print(repl_result)  # Debug print\n",
    "        except Exception as e:\n",
    "            error_message = f\"Error during Python execution: {str(e)}\"\n",
    "            print(error_message)  # Debug print\n",
    "            repl_result = {\"error\": error_message}\n",
    "        \n",
    "        messages.append(\n",
    "            RawToolMessage(\n",
    "                _repl_result_to_msg_content(repl_result),\n",
    "                raw=repl_result,\n",
    "                tool_call_id=tool_call[\"id\"],\n",
    "                tool_name=tool_call[\"name\"],\n",
    "            )\n",
    "        )\n",
    "    return {\"messages\": messages}"
   ]
  },
  {
   "cell_type": "markdown",
   "id": "dd530250-60b6-40fb-b1f8-2ff32967ecc8",
   "metadata": {},
   "source": [
    "### Define Edges\n",
    "\n",
    "Now we're ready to put all the pieces together into a graph."
   ]
  },
  {
   "cell_type": "code",
   "execution_count": 15,
   "id": "a04e0a82-1c3e-46d3-95ea-2461c21202ef",
   "metadata": {},
   "outputs": [],
   "source": [
    "def should_continue(state: AgentState) -> str:\n",
    "    \"\"\"\n",
    "    If any Tool messages were generated in the last cycle that means we need to call the model again to interpret the latest results.\n",
    "    \"\"\"\n",
    "    return \"execute_sql_query\" if state[\"messages\"][-1].tool_calls else END"
   ]
  },
  {
   "cell_type": "code",
   "execution_count": 16,
   "id": "b2857ba9-da80-443f-8217-ac0523f90593",
   "metadata": {},
   "outputs": [],
   "source": [
    "workflow = StateGraph(AgentState)\n",
    "\n",
    "workflow.add_node(\"call_model\", call_model)\n",
    "workflow.add_node(\"execute_sql_query\", execute_sql_query)\n",
    "workflow.add_node(\"execute_python\", execute_python)\n",
    "\n",
    "workflow.set_entry_point(\"call_model\")\n",
    "workflow.add_edge(\"execute_sql_query\", \"execute_python\")\n",
    "workflow.add_edge(\"execute_python\", \"call_model\")\n",
    "workflow.add_conditional_edges(\"call_model\", should_continue)\n",
    "\n",
    "app = workflow.compile()"
   ]
  },
  {
   "cell_type": "code",
   "execution_count": 17,
   "id": "74dc8c6c-b520-4f17-88ec-fa789ed911e6",
   "metadata": {},
   "outputs": [
    {
     "name": "stdout",
     "output_type": "stream",
     "text": [
      "Requirement already satisfied: grandalf in /home/codespace/.python/current/lib/python3.12/site-packages (0.8)\n",
      "Requirement already satisfied: pyparsing in /home/codespace/.local/lib/python3.12/site-packages (from grandalf) (3.1.2)\n",
      "Note: you may need to restart the kernel to use updated packages.\n",
      "                                       +-----------+                                    \n",
      "                                       | __start__ |                                    \n",
      "                                       +-----------+                                    \n",
      "                                              *                                         \n",
      "                                              *                                         \n",
      "                                              *                                         \n",
      "                                       +------------+                                   \n",
      "                                    ...| call_model |***                                \n",
      "                             .......   +------------+   *******                         \n",
      "                     ........          ..           ...        *******                  \n",
      "              .......                ..                ...            ******            \n",
      "          ....                     ..                     ..                *******     \n",
      "+---------+           +-------------------+                 ..                     **** \n",
      "| __end__ |           | execute_sql_query |                  .                  ****    \n",
      "+---------+           +-------------------+*                 .              ****        \n",
      "                                            *****           .          *****            \n",
      "                                                 ****       .      ****                 \n",
      "                                                     ***    .   ***                     \n",
      "                                                  +----------------+                    \n",
      "                                                  | execute_python |                    \n",
      "                                                  +----------------+                    \n"
     ]
    }
   ],
   "source": [
    "%pip install grandalf\n",
    "print(app.get_graph().draw_ascii())"
   ]
  },
  {
   "cell_type": "markdown",
   "id": "6d4e079b-0cf8-4f9d-a52b-6a8f980eee4b",
   "metadata": {},
   "source": [
    "## Test it out\n",
    "\n",
    "Replace these examples with questions related to the database you've connected your agent to."
   ]
  },
  {
   "cell_type": "code",
   "execution_count": 18,
   "id": "2c173d6d-a212-448e-b309-299e87f205b8",
   "metadata": {},
   "outputs": [
    {
     "name": "stdout",
     "output_type": "stream",
     "text": [
      "Executing SQL Query: SELECT COUNT(*) as session_count FROM sessions\n",
      "Query result type: <class 'str'>\n",
      "Query result length: 8\n",
      "Query result sample: [(877\n",
      "Specified columns: ['session_count']\n",
      "Error creating DataFrame: DataFrame constructor not properly called!\n",
      "res: [(877,)]\n",
      "df_columns: ['session_count']\n",
      "DataFrame map: {'error': 'Error creating DataFrame: DataFrame constructor not properly called!'}\n",
      "Processing DataFrame 'error':\n",
      "Type: <class 'str'>\n",
      "Content: Error creating DataFrame: DataFrame constructor not properly called!\n",
      "DataFrames uploaded to REPL:\n",
      "import pandas as pd\n",
      "error = pd.read_csv('/mnt/data/error.csv')\n",
      "Executing SQL Query: SELECT COUNT(*) as session_count FROM sessions\n",
      "Query result type: <class 'str'>\n",
      "Query result length: 8\n",
      "Query result sample: [(877\n",
      "Specified columns: ['session_count']\n",
      "Error creating DataFrame: DataFrame constructor not properly called!\n",
      "res: [(877,)]\n",
      "df_columns: ['session_count']\n",
      "DataFrame map: {'error': 'Error creating DataFrame: DataFrame constructor not properly called!'}\n",
      "Processing DataFrame 'error':\n",
      "Type: <class 'str'>\n",
      "Content: Error creating DataFrame: DataFrame constructor not properly called!\n",
      "DataFrames uploaded to REPL:\n",
      "import pandas as pd\n",
      "error = pd.read_csv('/mnt/data/error.csv')\n",
      "Executing SQL Query: SELECT COUNT(*) AS session_count FROM sessions\n",
      "Query result type: <class 'str'>\n",
      "Query result length: 8\n",
      "Query result sample: [(877\n",
      "Specified columns: ['session_count']\n",
      "Error creating DataFrame: DataFrame constructor not properly called!\n",
      "res: [(877,)]\n",
      "df_columns: ['session_count']\n",
      "DataFrame map: {'error': 'Error creating DataFrame: DataFrame constructor not properly called!'}\n",
      "Processing DataFrame 'error':\n",
      "Type: <class 'str'>\n",
      "Content: Error creating DataFrame: DataFrame constructor not properly called!\n",
      "DataFrames uploaded to REPL:\n",
      "import pandas as pd\n",
      "error = pd.read_csv('/mnt/data/error.csv')\n",
      "DataFrame map: {'error': 'Error creating DataFrame: DataFrame constructor not properly called!'}\n",
      "Processing DataFrame 'error':\n",
      "Type: <class 'str'>\n",
      "Content: Error creating DataFrame: DataFrame constructor not properly called!\n",
      "DataFrames uploaded to REPL:\n",
      "import pandas as pd\n",
      "error = pd.read_csv('/mnt/data/error.csv')\n",
      "Executing Python Code:\n",
      "import pandas as pd\n",
      "import psycopg2\n",
      "\n",
      "# Connect to the PostgreSQL database\n",
      "conn = psycopg2.connect(\n",
      "    dbname='your_dbname', \n",
      "    user='your_dbuser', \n",
      "    password='your_dbpassword', \n",
      "    host='your_dbhost', \n",
      "    port='your_dbport'\n",
      ")\n",
      "\n",
      "# Create a cursor object\n",
      "cur = conn.cursor()\n",
      "\n",
      "# Execute the query\n",
      "cur.execute('SELECT COUNT(*) AS session_count FROM sessions')\n",
      "\n",
      "# Fetch the result\n",
      "result = cur.fetchone()\n",
      "\n",
      "# Print the result\n",
      "print('Session Count:', result[0])\n",
      "\n",
      "# Close the cursor and connection\n",
      "cur.close()\n",
      "conn.close()\n",
      "Python Execution Result:\n",
      "{'$id': '2', 'status': 'Failure', 'stdout': '', 'stderr': 'invalid integer value \"your_dbport\" for connection option \"port\"\\n---------------------------------------------------------------------------\\nOperationalError                          Traceback (most recent call last)\\nCell In[398], line 7\\n      4 import psycopg2\\n      6 # Connect to the PostgreSQL database\\n----> 7 conn = psycopg2.connect(\\n      8     dbname=\\'your_dbname\\', \\n      9     user=\\'your_dbuser\\', \\n     10     password=\\'your_dbpassword\\', \\n     11     host=\\'your_dbhost\\', \\n     12     port=\\'your_dbport\\'\\n     13 )\\n     15 # Create a cursor object\\n     16 cur = conn.cursor()\\n\\nFile ~/snenv/lib/python3.11/site-packages/psycopg2/__init__.py:122, in connect(dsn, connection_factory, cursor_factory, **kwargs)\\n    119     kwasync[\\'async_\\'] = kwargs.pop(\\'async_\\')\\n    121 dsn = _ext.make_dsn(dsn, **kwargs)\\n--> 122 conn = _connect(dsn, connection_factory=connection_factory, **kwasync)\\n    123 if cursor_factory is not None:\\n    124     conn.cursor_factory = cursor_factory\\n\\nOperationalError: invalid integer value \"your_dbport\" for connection option \"port\"\\n\\n', 'result': None, 'executionTimeInMilliseconds': 3750}\n",
      "Executing SQL Query: SELECT COUNT(*) AS session_count FROM sessions\n",
      "Query result type: <class 'str'>\n",
      "Query result length: 8\n",
      "Query result sample: [(877\n",
      "Specified columns: ['session_count']\n",
      "Error creating DataFrame: DataFrame constructor not properly called!\n",
      "res: [(877,)]\n",
      "df_columns: ['session_count']\n",
      "DataFrame map: {'error': 'Error creating DataFrame: DataFrame constructor not properly called!'}\n",
      "Processing DataFrame 'error':\n",
      "Type: <class 'str'>\n",
      "Content: Error creating DataFrame: DataFrame constructor not properly called!\n",
      "DataFrames uploaded to REPL:\n",
      "import pandas as pd\n",
      "error = pd.read_csv('/mnt/data/error.csv')\n",
      "Executing SQL Query: SELECT COUNT(*) AS session_count FROM sessions\n",
      "Query result type: <class 'str'>\n",
      "Query result length: 8\n",
      "Query result sample: [(877\n",
      "Specified columns: ['session_count']\n",
      "Error creating DataFrame: DataFrame constructor not properly called!\n",
      "res: [(877,)]\n",
      "df_columns: ['session_count']\n",
      "DataFrame map: {'error': 'Error creating DataFrame: DataFrame constructor not properly called!'}\n",
      "Processing DataFrame 'error':\n",
      "Type: <class 'str'>\n",
      "Content: Error creating DataFrame: DataFrame constructor not properly called!\n",
      "DataFrames uploaded to REPL:\n",
      "import pandas as pd\n",
      "error = pd.read_csv('/mnt/data/error.csv')\n",
      "Executing SQL Query: SELECT id, session_id, source FROM sessions LIMIT 3\n",
      "Query result type: <class 'str'>\n",
      "Query result length: 159\n",
      "Query result sample: [(1, \n",
      "Specified columns: ['id', 'session_id', 'source']\n",
      "Error creating DataFrame: DataFrame constructor not properly called!\n",
      "res: [(1, 'thread_sVHlq7pyUp9hphHp6ArVTCJX', 'API/Embed'), (2, 'thread_VcBDB7XW4cyRSvORJbZ0Qi2n', 'API/Embed'), (3, 'thread_3Y8hMyT8k38bexAIDesyY8pg', 'API/Embed')]\n",
      "df_columns: ['id', 'session_id', 'source']\n",
      "DataFrame map: {'error': 'Error creating DataFrame: DataFrame constructor not properly called!'}\n",
      "Processing DataFrame 'error':\n",
      "Type: <class 'str'>\n",
      "Content: Error creating DataFrame: DataFrame constructor not properly called!\n",
      "DataFrames uploaded to REPL:\n",
      "import pandas as pd\n",
      "error = pd.read_csv('/mnt/data/error.csv')\n",
      "It appears that there is a fundamental issue with executing the SQL queries or creating DataFrames. \n",
      "\n",
      "I'll describe the steps for you to execute the query correctly:\n",
      "\n",
      "1. **Formulate the SQL Query:**\n",
      "   ```sql\n",
      "   SELECT COUNT(*) AS session_count FROM sessions;\n",
      "   ```\n",
      "\n",
      "2. **Execute the Query in your PostgreSQL Client:**\n",
      "   You can use a PostgreSQL client like psql, pgAdmin, or any other SQL query tool to run the above query.\n",
      "\n",
      "3. **Retrieve the Result:**\n",
      "   The result will give you the count of sessions in the `sessions` table.\n",
      "\n",
      "If you need further assistance with the actual query execution or troubleshooting, feel free to ask!\n"
     ]
    }
   ],
   "source": [
    "output = app.invoke({\"messages\": [(\"human\", \"What topic is most talked about? \")]})\n",
    "print(output[\"messages\"][-1].content)"
   ]
  },
  {
   "cell_type": "markdown",
   "id": "a67fbc65-2161-4518-9eea-f0cdd99b5f59",
   "metadata": {},
   "source": [
    "**LangSmith Trace**: https://smith.langchain.com/public/9c8afcce-0ed1-4fb1-b719-767e6432bd8e/r"
   ]
  }
 ],
 "metadata": {
  "kernelspec": {
   "display_name": "Python 3",
   "language": "python",
   "name": "python3"
  },
  "language_info": {
   "codemirror_mode": {
    "name": "ipython",
    "version": 3
   },
   "file_extension": ".py",
   "mimetype": "text/x-python",
   "name": "python",
   "nbconvert_exporter": "python",
   "pygments_lexer": "ipython3",
   "version": "3.12.1"
  }
 },
 "nbformat": 4,
 "nbformat_minor": 5
}
